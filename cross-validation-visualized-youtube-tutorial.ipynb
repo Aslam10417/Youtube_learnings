{
 "cells": [
  {
   "cell_type": "code",
   "execution_count": 2,
   "id": "a07dc232",
   "metadata": {
    "execution": {
     "iopub.execute_input": "2022-04-20T17:39:29.539674Z",
     "iopub.status.busy": "2022-04-20T17:39:29.538456Z",
     "iopub.status.idle": "2022-04-20T17:39:31.667810Z",
     "shell.execute_reply": "2022-04-20T17:39:31.666648Z",
     "shell.execute_reply.started": "2022-04-20T17:37:08.197798Z"
    },
    "papermill": {
     "duration": 2.158669,
     "end_time": "2022-04-20T17:39:31.668065",
     "exception": false,
     "start_time": "2022-04-20T17:39:29.509396",
     "status": "completed"
    },
    "tags": []
   },
   "outputs": [],
   "source": [
    "import pandas as pd\n",
    "import numpy as np\n",
    "\n",
    "import matplotlib.pylab as plt\n",
    "import lightgbm as lgb\n",
    "\n",
    "from sklearn.metrics import accuracy_score, roc_auc_score\n",
    "\n",
    "from sklearn.model_selection import (\n",
    "    train_test_split,\n",
    "    TimeSeriesSplit,\n",
    "    KFold,\n",
    "    StratifiedKFold,\n",
    "    GroupKFold,\n",
    "    StratifiedGroupKFold,\n",
    ")\n",
    "\n",
    "plt.style.use('seaborn-white')"
   ]
  },
  {
   "cell_type": "code",
   "execution_count": 3,
   "id": "11392e33",
   "metadata": {
    "execution": {
     "iopub.execute_input": "2022-04-20T17:39:31.795844Z",
     "iopub.status.busy": "2022-04-20T17:39:31.795162Z",
     "iopub.status.idle": "2022-04-20T17:39:31.873813Z",
     "shell.execute_reply": "2022-04-20T17:39:31.874542Z",
     "shell.execute_reply.started": "2022-04-20T17:37:10.836171Z"
    },
    "papermill": {
     "duration": 0.110117,
     "end_time": "2022-04-20T17:39:31.874815",
     "exception": false,
     "start_time": "2022-04-20T17:39:31.764698",
     "status": "completed"
    },
    "tags": []
   },
   "outputs": [],
   "source": [
    "def get_prep_data():\n",
    "    data = pd.read_csv(\n",
    "        \"healthcare-dataset-stroke-data.csv\"\n",
    "    )\n",
    "    data[\"ever_married\"] = (\n",
    "        data[\"ever_married\"].replace(\"Yes\", True).replace(\"No\", False)\n",
    "    )\n",
    "    data[\"gender\"] = data[\"gender\"].astype(\"category\")\n",
    "    data[\"smoking_status\"] = data[\"smoking_status\"].astype(\"category\")\n",
    "    data[\"Residence_type\"] = data[\"Residence_type\"].astype(\"category\")\n",
    "    data[\"work_type\"] = data[\"work_type\"].astype(\"category\")\n",
    "    data[\"doctor\"] = np.random.randint(0, 8, size=len(data))\n",
    "    holdout_ids = data.sample(n=500, random_state=529).index\n",
    "\n",
    "    train = (\n",
    "        data.loc[~data.index.isin(holdout_ids)]\n",
    "        .sample(frac=1, random_state=529)\n",
    "        .sort_values(\"doctor\")\n",
    "        .reset_index(drop=True)\n",
    "    )\n",
    "    holdout = (\n",
    "        data.loc[data.index.isin(holdout_ids)]\n",
    "        .sample(frac=1, random_state=529)\n",
    "        .sort_values(\"doctor\")\n",
    "        .reset_index(drop=True)\n",
    "    )\n",
    "\n",
    "    return train, holdout\n",
    "\n",
    "\n",
    "train, holdout = get_prep_data()"
   ]
  },
  {
   "cell_type": "code",
   "execution_count": 4,
   "id": "dc94d2ab",
   "metadata": {
    "execution": {
     "iopub.execute_input": "2022-04-20T17:39:31.940297Z",
     "iopub.status.busy": "2022-04-20T17:39:31.939322Z",
     "iopub.status.idle": "2022-04-20T17:39:31.962340Z",
     "shell.execute_reply": "2022-04-20T17:39:31.963102Z",
     "shell.execute_reply.started": "2022-04-20T17:37:11.989082Z"
    },
    "papermill": {
     "duration": 0.055555,
     "end_time": "2022-04-20T17:39:31.963333",
     "exception": false,
     "start_time": "2022-04-20T17:39:31.907778",
     "status": "completed"
    },
    "tags": []
   },
   "outputs": [
    {
     "data": {
      "text/html": [
       "<div>\n",
       "<style scoped>\n",
       "    .dataframe tbody tr th:only-of-type {\n",
       "        vertical-align: middle;\n",
       "    }\n",
       "\n",
       "    .dataframe tbody tr th {\n",
       "        vertical-align: top;\n",
       "    }\n",
       "\n",
       "    .dataframe thead th {\n",
       "        text-align: right;\n",
       "    }\n",
       "</style>\n",
       "<table border=\"1\" class=\"dataframe\">\n",
       "  <thead>\n",
       "    <tr style=\"text-align: right;\">\n",
       "      <th></th>\n",
       "      <th>id</th>\n",
       "      <th>gender</th>\n",
       "      <th>age</th>\n",
       "      <th>hypertension</th>\n",
       "      <th>heart_disease</th>\n",
       "      <th>ever_married</th>\n",
       "      <th>work_type</th>\n",
       "      <th>Residence_type</th>\n",
       "      <th>avg_glucose_level</th>\n",
       "      <th>bmi</th>\n",
       "      <th>smoking_status</th>\n",
       "      <th>stroke</th>\n",
       "      <th>doctor</th>\n",
       "    </tr>\n",
       "  </thead>\n",
       "  <tbody>\n",
       "    <tr>\n",
       "      <th>0</th>\n",
       "      <td>45238</td>\n",
       "      <td>Female</td>\n",
       "      <td>1.8</td>\n",
       "      <td>0</td>\n",
       "      <td>0</td>\n",
       "      <td>False</td>\n",
       "      <td>children</td>\n",
       "      <td>Urban</td>\n",
       "      <td>58.26</td>\n",
       "      <td>16.5</td>\n",
       "      <td>Unknown</td>\n",
       "      <td>0</td>\n",
       "      <td>0</td>\n",
       "    </tr>\n",
       "    <tr>\n",
       "      <th>1</th>\n",
       "      <td>25718</td>\n",
       "      <td>Female</td>\n",
       "      <td>28.0</td>\n",
       "      <td>0</td>\n",
       "      <td>0</td>\n",
       "      <td>True</td>\n",
       "      <td>Private</td>\n",
       "      <td>Urban</td>\n",
       "      <td>100.80</td>\n",
       "      <td>39.3</td>\n",
       "      <td>formerly smoked</td>\n",
       "      <td>0</td>\n",
       "      <td>0</td>\n",
       "    </tr>\n",
       "    <tr>\n",
       "      <th>2</th>\n",
       "      <td>35372</td>\n",
       "      <td>Male</td>\n",
       "      <td>37.0</td>\n",
       "      <td>0</td>\n",
       "      <td>0</td>\n",
       "      <td>True</td>\n",
       "      <td>Govt_job</td>\n",
       "      <td>Rural</td>\n",
       "      <td>74.29</td>\n",
       "      <td>36.1</td>\n",
       "      <td>never smoked</td>\n",
       "      <td>0</td>\n",
       "      <td>0</td>\n",
       "    </tr>\n",
       "    <tr>\n",
       "      <th>3</th>\n",
       "      <td>28527</td>\n",
       "      <td>Male</td>\n",
       "      <td>71.0</td>\n",
       "      <td>0</td>\n",
       "      <td>0</td>\n",
       "      <td>False</td>\n",
       "      <td>Private</td>\n",
       "      <td>Urban</td>\n",
       "      <td>86.96</td>\n",
       "      <td>32.6</td>\n",
       "      <td>never smoked</td>\n",
       "      <td>0</td>\n",
       "      <td>0</td>\n",
       "    </tr>\n",
       "    <tr>\n",
       "      <th>4</th>\n",
       "      <td>66647</td>\n",
       "      <td>Male</td>\n",
       "      <td>31.0</td>\n",
       "      <td>0</td>\n",
       "      <td>0</td>\n",
       "      <td>True</td>\n",
       "      <td>Private</td>\n",
       "      <td>Rural</td>\n",
       "      <td>100.52</td>\n",
       "      <td>29.9</td>\n",
       "      <td>Unknown</td>\n",
       "      <td>0</td>\n",
       "      <td>0</td>\n",
       "    </tr>\n",
       "  </tbody>\n",
       "</table>\n",
       "</div>"
      ],
      "text/plain": [
       "      id  gender   age  hypertension  heart_disease  ever_married work_type  \\\n",
       "0  45238  Female   1.8             0              0         False  children   \n",
       "1  25718  Female  28.0             0              0          True   Private   \n",
       "2  35372    Male  37.0             0              0          True  Govt_job   \n",
       "3  28527    Male  71.0             0              0         False   Private   \n",
       "4  66647    Male  31.0             0              0          True   Private   \n",
       "\n",
       "  Residence_type  avg_glucose_level   bmi   smoking_status  stroke  doctor  \n",
       "0          Urban              58.26  16.5          Unknown       0       0  \n",
       "1          Urban             100.80  39.3  formerly smoked       0       0  \n",
       "2          Rural              74.29  36.1     never smoked       0       0  \n",
       "3          Urban              86.96  32.6     never smoked       0       0  \n",
       "4          Rural             100.52  29.9          Unknown       0       0  "
      ]
     },
     "execution_count": 4,
     "metadata": {},
     "output_type": "execute_result"
    }
   ],
   "source": [
    "train.head()"
   ]
  },
  {
   "cell_type": "code",
   "execution_count": 5,
   "id": "4b256526",
   "metadata": {
    "execution": {
     "iopub.execute_input": "2022-04-20T17:39:32.025372Z",
     "iopub.status.busy": "2022-04-20T17:39:32.024727Z",
     "iopub.status.idle": "2022-04-20T17:39:32.032511Z",
     "shell.execute_reply": "2022-04-20T17:39:32.033163Z",
     "shell.execute_reply.started": "2022-04-20T17:37:12.775627Z"
    },
    "papermill": {
     "duration": 0.039164,
     "end_time": "2022-04-20T17:39:32.033335",
     "exception": false,
     "start_time": "2022-04-20T17:39:31.994171",
     "status": "completed"
    },
    "tags": []
   },
   "outputs": [],
   "source": [
    "def get_X_y(train):\n",
    "    FEATURES = [\n",
    "        \"gender\",\n",
    "        \"age\",\n",
    "        \"hypertension\",\n",
    "        \"heart_disease\",\n",
    "        \"ever_married\",\n",
    "        \"work_type\",\n",
    "        \"Residence_type\",\n",
    "        \"avg_glucose_level\",\n",
    "        \"bmi\",\n",
    "        \"smoking_status\",\n",
    "    ]\n",
    "\n",
    "    GROUPS = \"doctor\"\n",
    "\n",
    "    TARGET = \"stroke\"\n",
    "\n",
    "    X = train[FEATURES]\n",
    "    y = train[TARGET]\n",
    "    groups = train[GROUPS]\n",
    "    return X, y, groups"
   ]
  },
  {
   "cell_type": "code",
   "execution_count": 6,
   "id": "c8c41fd6",
   "metadata": {
    "execution": {
     "iopub.execute_input": "2022-04-20T17:39:32.097743Z",
     "iopub.status.busy": "2022-04-20T17:39:32.096772Z",
     "iopub.status.idle": "2022-04-20T17:39:32.648951Z",
     "shell.execute_reply": "2022-04-20T17:39:32.649892Z",
     "shell.execute_reply.started": "2022-04-20T17:37:13.583514Z"
    },
    "papermill": {
     "duration": 0.589374,
     "end_time": "2022-04-20T17:39:32.650100",
     "exception": false,
     "start_time": "2022-04-20T17:39:32.060726",
     "status": "completed"
    },
    "tags": []
   },
   "outputs": [
    {
     "name": "stdout",
     "output_type": "stream",
     "text": [
      "The score on the training set is accuracy: 0.9911 and AUC of 0.9997\n"
     ]
    }
   ],
   "source": [
    "X, y, groups = get_X_y(train)\n",
    "clf = lgb.LGBMClassifier(n_estimators=100)\n",
    "clf.fit(X, y)\n",
    "# Predict on training set\n",
    "pred = clf.predict(X)\n",
    "pred_prob = clf.predict_proba(X)[:, 1]\n",
    "\n",
    "acc_score = accuracy_score(y, pred)\n",
    "auc_score = roc_auc_score(y, pred_prob)\n",
    "\n",
    "print(f'The score on the training set is accuracy: {acc_score:0.4f} and AUC of {auc_score:0.4f}')"
   ]
  },
  {
   "cell_type": "code",
   "execution_count": 7,
   "id": "f971ac71",
   "metadata": {
    "execution": {
     "iopub.execute_input": "2022-04-20T17:39:32.822369Z",
     "iopub.status.busy": "2022-04-20T17:39:32.821752Z",
     "iopub.status.idle": "2022-04-20T17:39:32.854732Z",
     "shell.execute_reply": "2022-04-20T17:39:32.855400Z",
     "shell.execute_reply.started": "2022-04-20T17:37:17.688987Z"
    },
    "papermill": {
     "duration": 0.064572,
     "end_time": "2022-04-20T17:39:32.855611",
     "exception": false,
     "start_time": "2022-04-20T17:39:32.791039",
     "status": "completed"
    },
    "tags": []
   },
   "outputs": [
    {
     "name": "stdout",
     "output_type": "stream",
     "text": [
      "Our accuracy on the holdout set is 0.9380 and AUC is 0.7802\n"
     ]
    }
   ],
   "source": [
    "X_holdout, y_holdout, groups_holdout = get_X_y(holdout)\n",
    "\n",
    "pred = clf.predict(X_holdout)\n",
    "pred_prob = clf.predict_proba(X_holdout)[:, 1]\n",
    "acc_score = accuracy_score(y_holdout, pred)\n",
    "auc_score = roc_auc_score(y_holdout, pred_prob)\n",
    "print(\n",
    "    f\"Our accuracy on the holdout set is {acc_score:0.4f} and AUC is {auc_score:0.4f}\"\n",
    ")"
   ]
  },
  {
   "cell_type": "code",
   "execution_count": 8,
   "id": "685ada83",
   "metadata": {
    "execution": {
     "iopub.execute_input": "2022-04-20T17:39:32.975840Z",
     "iopub.status.busy": "2022-04-20T17:39:32.974856Z",
     "iopub.status.idle": "2022-04-20T17:39:32.983471Z",
     "shell.execute_reply": "2022-04-20T17:39:32.984264Z",
     "shell.execute_reply.started": "2022-04-20T17:37:18.802138Z"
    },
    "papermill": {
     "duration": 0.041577,
     "end_time": "2022-04-20T17:39:32.984533",
     "exception": false,
     "start_time": "2022-04-20T17:39:32.942956",
     "status": "completed"
    },
    "tags": []
   },
   "outputs": [
    {
     "name": "stdout",
     "output_type": "stream",
     "text": [
      "Our baseline on the holdout set is 0.9480 and AUC is 0.5000\n"
     ]
    }
   ],
   "source": [
    "acc_score = accuracy_score(y_holdout, np.zeros_like(y_holdout))\n",
    "auc_score = roc_auc_score(y_holdout, np.zeros_like(y_holdout))\n",
    "print(\n",
    "    f\"Our baseline on the holdout set is {acc_score:0.4f} and AUC is {auc_score:0.4f}\"\n",
    ")"
   ]
  },
  {
   "cell_type": "code",
   "execution_count": 9,
   "id": "3db71fa3",
   "metadata": {
    "execution": {
     "iopub.execute_input": "2022-04-20T17:39:33.104021Z",
     "iopub.status.busy": "2022-04-20T17:39:33.103312Z",
     "iopub.status.idle": "2022-04-20T17:39:33.199734Z",
     "shell.execute_reply": "2022-04-20T17:39:33.200676Z",
     "shell.execute_reply.started": "2022-04-20T17:37:20.171087Z"
    },
    "papermill": {
     "duration": 0.128875,
     "end_time": "2022-04-20T17:39:33.200953",
     "exception": false,
     "start_time": "2022-04-20T17:39:33.072078",
     "status": "completed"
    },
    "tags": []
   },
   "outputs": [
    {
     "name": "stdout",
     "output_type": "stream",
     "text": [
      "Our accuracy on the validation set is 0.9610 and AUC is 0.8590\n"
     ]
    }
   ],
   "source": [
    "X, y, groups = get_X_y(train)\n",
    "\n",
    "X_tr, X_val, y_tr, y_val = train_test_split(X, y, test_size=0.1)\n",
    "clf = lgb.LGBMClassifier(n_estimators=100, max_depth=3)\n",
    "clf.fit(X_tr, y_tr)\n",
    "pred = clf.predict(X_val)\n",
    "pred_prob = clf.predict_proba(X_val)[:, 1]\n",
    "acc_score = accuracy_score(y_val, pred)\n",
    "auc_score = roc_auc_score(y_val, pred_prob)\n",
    "print(\n",
    "    f\"Our accuracy on the validation set is {acc_score:0.4f} and AUC is {auc_score:0.4f}\"\n",
    ")"
   ]
  },
  {
   "cell_type": "code",
   "execution_count": 10,
   "id": "11d7a2d9",
   "metadata": {
    "execution": {
     "iopub.execute_input": "2022-04-20T17:39:33.331383Z",
     "iopub.status.busy": "2022-04-20T17:39:33.330365Z",
     "iopub.status.idle": "2022-04-20T17:39:33.350795Z",
     "shell.execute_reply": "2022-04-20T17:39:33.350107Z",
     "shell.execute_reply.started": "2022-04-20T17:37:21.451638Z"
    },
    "jupyter": {
     "source_hidden": true
    },
    "papermill": {
     "duration": 0.057921,
     "end_time": "2022-04-20T17:39:33.350951",
     "exception": false,
     "start_time": "2022-04-20T17:39:33.293030",
     "status": "completed"
    },
    "tags": []
   },
   "outputs": [],
   "source": [
    "from matplotlib.patches import Patch\n",
    "cmap_data = plt.cm.Paired\n",
    "cmap_cv = plt.cm.coolwarm\n",
    "\n",
    "def visualize_groups(classes, groups, name):\n",
    "    # Visualize dataset groups\n",
    "    fig, ax = plt.subplots()\n",
    "    ax.scatter(\n",
    "        range(len(groups)),\n",
    "        [0.5] * len(groups),\n",
    "        c=groups,\n",
    "        marker=\"_\",\n",
    "        lw=50,\n",
    "        cmap=cmap_data,\n",
    "    )\n",
    "    ax.scatter(\n",
    "        range(len(groups)),\n",
    "        [3.5] * len(groups),\n",
    "        c=classes,\n",
    "        marker=\"_\",\n",
    "        lw=50,\n",
    "        cmap=cmap_data,\n",
    "    )\n",
    "    ax.set(\n",
    "        ylim=[-1, 5],\n",
    "        yticks=[0.5, 3.5],\n",
    "        yticklabels=[\"Data\\ngroup\", \"Data\\nclass\"],\n",
    "        xlabel=\"Sample index\",\n",
    "    )\n",
    "\n",
    "\n",
    "def plot_cv_indices(cv, X, y, group, ax, n_splits, lw=25):\n",
    "    \"\"\"Create a sample plot for indices of a cross-validation object.\"\"\"\n",
    "\n",
    "    # Generate the training/testing visualizations for each CV split\n",
    "    for ii, (tr, tt) in enumerate(cv.split(X=X, y=y, groups=group)):\n",
    "        # Fill in indices with the training/test groups\n",
    "        indices = np.array([np.nan] * len(X))\n",
    "        indices[tt] = 1\n",
    "        indices[tr] = 0\n",
    "\n",
    "        # Visualize the results\n",
    "        ax.scatter(\n",
    "            range(len(indices)),\n",
    "            [ii + 0.5] * len(indices),\n",
    "            c=indices,\n",
    "            marker=\"_\",\n",
    "            lw=lw,\n",
    "            cmap=cmap_cv,\n",
    "            vmin=-0.2,\n",
    "            vmax=1.2,\n",
    "        )\n",
    "\n",
    "    # Plot the data classes and groups at the end\n",
    "    ax.scatter(\n",
    "        range(len(X)), [ii + 1.5] * len(X), c=y, marker=\"_\", lw=lw, cmap=cmap_data\n",
    "    )\n",
    "\n",
    "    ax.scatter(\n",
    "        range(len(X)), [ii + 2.5] * len(X), c=group, marker=\"_\", lw=lw, cmap=cmap_data\n",
    "    )\n",
    "\n",
    "    # Formatting\n",
    "    yticklabels = list(range(n_splits)) + [\"class\", \"group\"]\n",
    "    ax.set(\n",
    "        yticks=np.arange(n_splits + 2) + 0.5,\n",
    "        yticklabels=yticklabels,\n",
    "        xlabel=\"Sample index\",\n",
    "        ylabel=\"CV iteration\",\n",
    "        ylim=[n_splits + 2.2, -0.2],\n",
    "        xlim=[0, 100],\n",
    "    )\n",
    "    ax.set_title(\"{}\".format(type(cv).__name__), fontsize=15)\n",
    "    return ax\n",
    "\n",
    "\n",
    "def plot_cv(cv, X, y, groups, n_splits=5):\n",
    "    this_cv = cv(n_splits=n_splits)\n",
    "    fig, ax = plt.subplots(figsize=(15, 5))\n",
    "    plot_cv_indices(this_cv, X, y, groups, ax, n_splits)\n",
    "\n",
    "    ax.legend(\n",
    "        [Patch(color=cmap_cv(0.8)), Patch(color=cmap_cv(0.02))],\n",
    "        [\"Testing set\", \"Training set\"],\n",
    "        loc=(1.02, 0.8),\n",
    "    )\n",
    "    plt.tight_layout()\n",
    "    fig.subplots_adjust(right=0.7)\n",
    "    plt.show()\n",
    "    \n",
    "def get_fake_X_y():\n",
    "    # Fake Generate the class/group data for an example\n",
    "    n_points = 100\n",
    "    X_ = np.random.randn(100, 10)\n",
    "\n",
    "    percentiles_classes = [0.1, 0.9]\n",
    "    y_ = np.hstack([[ii] * int(100 * perc) for ii, perc in enumerate(percentiles_classes)])\n",
    "\n",
    "    # Evenly spaced groups repeated once\n",
    "    groups_ = np.hstack([[ii] * 10 for ii in range(10)])\n",
    "    return X_, y_, groups_"
   ]
  },
  {
   "cell_type": "code",
   "execution_count": 11,
   "id": "a9611c0c",
   "metadata": {
    "execution": {
     "iopub.execute_input": "2022-04-20T17:39:33.477655Z",
     "iopub.status.busy": "2022-04-20T17:39:33.476670Z",
     "iopub.status.idle": "2022-04-20T17:39:33.774699Z",
     "shell.execute_reply": "2022-04-20T17:39:33.774014Z",
     "shell.execute_reply.started": "2022-04-20T17:37:22.454916Z"
    },
    "papermill": {
     "duration": 0.33651,
     "end_time": "2022-04-20T17:39:33.774841",
     "exception": false,
     "start_time": "2022-04-20T17:39:33.438331",
     "status": "completed"
    },
    "tags": []
   },
   "outputs": [
    {
     "data": {
      "image/png": "[encoded data removed]",
      "text/plain": [
       "<Figure size 1500x500 with 1 Axes>"
      ]
     },
     "metadata": {},
     "output_type": "display_data"
    }
   ],
   "source": [
    "kf = KFold()\n",
    "X_, y_, groups_ = get_fake_X_y()\n",
    "plot_cv(KFold, X_, y_, groups_)"
   ]
  },
  {
   "cell_type": "code",
   "execution_count": 12,
   "id": "92f46bad",
   "metadata": {
    "execution": {
     "iopub.execute_input": "2022-04-20T17:39:33.916545Z",
     "iopub.status.busy": "2022-04-20T17:39:33.910118Z",
     "iopub.status.idle": "2022-04-20T17:39:34.156445Z",
     "shell.execute_reply": "2022-04-20T17:39:34.155797Z",
     "shell.execute_reply.started": "2022-04-20T17:37:23.468906Z"
    },
    "papermill": {
     "duration": 0.293461,
     "end_time": "2022-04-20T17:39:34.156617",
     "exception": false,
     "start_time": "2022-04-20T17:39:33.863156",
     "status": "completed"
    },
    "tags": []
   },
   "outputs": [
    {
     "data": {
      "image/png": "[encoded data removed]",
      "text/plain": [
       "<Figure size 1500x500 with 1 Axes>"
      ]
     },
     "metadata": {},
     "output_type": "display_data"
    }
   ],
   "source": [
    "skf = StratifiedKFold()\n",
    "X_, y_, groups_ = get_fake_X_y()\n",
    "plot_cv(StratifiedKFold, X_, y_, groups_)"
   ]
  },
  {
   "cell_type": "code",
   "execution_count": 13,
   "id": "e88c8b72",
   "metadata": {
    "execution": {
     "iopub.execute_input": "2022-04-20T17:39:34.288447Z",
     "iopub.status.busy": "2022-04-20T17:39:34.287057Z",
     "iopub.status.idle": "2022-04-20T17:39:34.533921Z",
     "shell.execute_reply": "2022-04-20T17:39:34.534393Z",
     "shell.execute_reply.started": "2022-04-20T17:37:24.896378Z"
    },
    "papermill": {
     "duration": 0.283,
     "end_time": "2022-04-20T17:39:34.534624",
     "exception": false,
     "start_time": "2022-04-20T17:39:34.251624",
     "status": "completed"
    },
    "tags": []
   },
   "outputs": [
    {
     "data": {
      "image/png": "[encoded data removed]",
      "text/plain": [
       "<Figure size 1500x500 with 1 Axes>"
      ]
     },
     "metadata": {},
     "output_type": "display_data"
    }
   ],
   "source": [
    "gkf = GroupKFold()\n",
    "X_, y_, groups_ = get_fake_X_y()\n",
    "plot_cv(GroupKFold, X_, y_, groups_)"
   ]
  },
  {
   "cell_type": "code",
   "execution_count": 14,
   "id": "a5db4708",
   "metadata": {
    "execution": {
     "iopub.execute_input": "2022-04-20T17:39:34.684386Z",
     "iopub.status.busy": "2022-04-20T17:39:34.682508Z",
     "iopub.status.idle": "2022-04-20T17:39:34.942451Z",
     "shell.execute_reply": "2022-04-20T17:39:34.941798Z",
     "shell.execute_reply.started": "2022-04-20T17:37:25.802237Z"
    },
    "papermill": {
     "duration": 0.31234,
     "end_time": "2022-04-20T17:39:34.942647",
     "exception": false,
     "start_time": "2022-04-20T17:39:34.630307",
     "status": "completed"
    },
    "tags": []
   },
   "outputs": [
    {
     "data": {
      "image/png": "[encoded data removed]",
      "text/plain": [
       "<Figure size 1500x500 with 1 Axes>"
      ]
     },
     "metadata": {},
     "output_type": "display_data"
    }
   ],
   "source": [
    "gskf = StratifiedGroupKFold()\n",
    "X_, y_, groups_ = get_fake_X_y()\n",
    "np.random.shuffle(y_)\n",
    "plot_cv(StratifiedGroupKFold, X_, y_, groups_)"
   ]
  },
  {
   "cell_type": "markdown",
   "id": "0be45aa4",
   "metadata": {
    "papermill": {
     "duration": 0.032935,
     "end_time": "2022-04-20T17:39:35.008721",
     "exception": false,
     "start_time": "2022-04-20T17:39:34.975786",
     "status": "completed"
    },
    "tags": []
   },
   "source": [
    "# Time Series Split"
   ]
  },
  {
   "cell_type": "code",
   "execution_count": 15,
   "id": "ac68f639",
   "metadata": {
    "execution": {
     "iopub.execute_input": "2022-04-20T17:39:35.083032Z",
     "iopub.status.busy": "2022-04-20T17:39:35.080920Z",
     "iopub.status.idle": "2022-04-20T17:39:35.458758Z",
     "shell.execute_reply": "2022-04-20T17:39:35.458143Z",
     "shell.execute_reply.started": "2022-04-20T17:37:26.589916Z"
    },
    "papermill": {
     "duration": 0.416591,
     "end_time": "2022-04-20T17:39:35.458954",
     "exception": false,
     "start_time": "2022-04-20T17:39:35.042363",
     "status": "completed"
    },
    "tags": []
   },
   "outputs": [
    {
     "data": {
      "image/png": "[encoded data removed]",
      "text/plain": [
       "<Figure size 1500x500 with 1 Axes>"
      ]
     },
     "metadata": {},
     "output_type": "display_data"
    }
   ],
   "source": [
    "tss = TimeSeriesSplit()\n",
    "X_, y_, groups_ = get_fake_X_y()\n",
    "np.random.shuffle(y_)\n",
    "plot_cv(TimeSeriesSplit, X_, y_, groups_)"
   ]
  },
  {
   "cell_type": "code",
   "execution_count": 16,
   "id": "986f21ae",
   "metadata": {
    "execution": {
     "iopub.execute_input": "2022-04-20T17:39:35.607128Z",
     "iopub.status.busy": "2022-04-20T17:39:35.606415Z",
     "iopub.status.idle": "2022-04-20T17:39:36.702480Z",
     "shell.execute_reply": "2022-04-20T17:39:36.703461Z",
     "shell.execute_reply.started": "2022-04-20T17:37:27.702907Z"
    },
    "papermill": {
     "duration": 1.142442,
     "end_time": "2022-04-20T17:39:36.703719",
     "exception": false,
     "start_time": "2022-04-20T17:39:35.561277",
     "status": "completed"
    },
    "tags": []
   },
   "outputs": [
    {
     "name": "stdout",
     "output_type": "stream",
     "text": [
      "======= Fold 0 ========\n",
      "Our accuracy on the validation set is 0.9529 and AUC is 0.8088\n",
      "======= Fold 1 ========\n",
      "Our accuracy on the validation set is 0.9444 and AUC is 0.8455\n",
      "======= Fold 2 ========\n",
      "Our accuracy on the validation set is 0.9447 and AUC is 0.8509\n",
      "======= Fold 3 ========\n",
      "Our accuracy on the validation set is 0.9507 and AUC is 0.8249\n",
      "======= Fold 4 ========\n",
      "Our accuracy on the validation set is 0.9395 and AUC is 0.8454\n",
      "Our out of fold AUC score is 0.8351\n"
     ]
    }
   ],
   "source": [
    "sgk = StratifiedGroupKFold(n_splits=5, shuffle=True, random_state=529)\n",
    "\n",
    "X, y, groups = get_X_y(train)\n",
    "\n",
    "fold = 0\n",
    "aucs = []\n",
    "for train_idx, val_idx in sgk.split(X, y, groups):\n",
    "    X_tr = X.loc[train_idx]\n",
    "    y_tr = y.loc[train_idx]\n",
    "    \n",
    "    X_val = X.loc[val_idx]\n",
    "    y_val = y.loc[val_idx]\n",
    "\n",
    "    # Fit Model on Train\n",
    "    clf = lgb.LGBMClassifier(n_estimators=100)\n",
    "    clf.fit(X_tr, y_tr)\n",
    "    pred = clf.predict(X_val)\n",
    "    pred_prob = clf.predict_proba(X_val)[:, 1]\n",
    "    acc_score = accuracy_score(y_val, pred)\n",
    "    auc_score = roc_auc_score(y_val, pred_prob)\n",
    "    print(f\"======= Fold {fold} ========\")\n",
    "    print(\n",
    "        f\"Our accuracy on the validation set is {acc_score:0.4f} and AUC is {auc_score:0.4f}\"\n",
    "    )\n",
    "    fold += 1\n",
    "    aucs.append(auc_score)\n",
    "oof_auc = np.mean(aucs)\n",
    "print(f'Our out of fold AUC score is {oof_auc:0.4f}')"
   ]
  },
  {
   "cell_type": "code",
   "execution_count": null,
   "id": "18b6c76d",
   "metadata": {},
   "outputs": [],
   "source": []
  }
 ],
 "metadata": {
  "kernelspec": {
   "display_name": "Python 3 (ipykernel)",
   "language": "python",
   "name": "python3"
  },
  "language_info": {
   "codemirror_mode": {
    "name": "ipython",
    "version": 3
   },
   "file_extension": ".py",
   "mimetype": "text/x-python",
   "name": "python",
   "nbconvert_exporter": "python",
   "pygments_lexer": "ipython3",
   "version": "3.9.13"
  },
  "papermill": {
   "default_parameters": {},
   "duration": 18.886418,
   "end_time": "2022-04-20T17:39:37.900533",
   "environment_variables": {},
   "exception": null,
   "input_path": "__notebook__.ipynb",
   "output_path": "__notebook__.ipynb",
   "parameters": {},
   "start_time": "2022-04-20T17:39:19.014115",
   "version": "2.3.3"
  }
 },
 "nbformat": 4,
 "nbformat_minor": 5
}
